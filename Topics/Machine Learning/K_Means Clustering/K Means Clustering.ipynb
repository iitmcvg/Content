{
 "cells": [
  {
   "cell_type": "markdown",
   "metadata": {
    "deletable": true,
    "editable": true
   },
   "source": [
    "# K Means Clustering"
   ]
  },
  {
   "cell_type": "markdown",
   "metadata": {
    "deletable": true,
    "editable": true
   },
   "source": [
    "kNN is one of the simplest of classification algorithms available for supervised learning. The idea is to search for\n",
    "closest match of the test data in feature space .k-means clustering is a method of vector quantization, originally from signal processing, that is popular for cluster analysis in data mining. k-means clustering aims to partition n observations into k clusters in which each observation belongs to the cluster with the nearest mean, serving as a prototype of the cluster."
   ]
  },
  {
   "cell_type": "markdown",
   "metadata": {
    "deletable": true,
    "editable": true
   },
   "source": [
    "## Algorithm"
   ]
  },
  {
   "cell_type": "markdown",
   "metadata": {
    "deletable": true,
    "editable": true
   },
   "source": [
    "The Κ-means clustering algorithm uses iterative refinement to produce a final result. The algorithm inputs are the number of clusters Κ and the data set. The data set is a collection of features for each data point. The algorithms starts with initial estimates for the Κ centroids, which can either be randomly generated or randomly selected from the data set. The algorithm then iterates between two steps:"
   ]
  },
  {
   "cell_type": "markdown",
   "metadata": {
    "deletable": true,
    "editable": true
   },
   "source": [
    "1.Data Assignment Step\n",
    "\n",
    "Each centroid defines one of the clusters. In this step, each data point is assigned to its nearest centroid, based on the squared Euclidean distance. More formally, if ci is the collection of centroids in set C, then each data point x is assigned to a cluster based on\n",
    "\n",
    "$$\\underset{c_i \\in C}{\\arg\\min} \\; dist(c_i,x)^2$$\n",
    "\n",
    "where dist( · ) is the standard (L2) Euclidean distance. Let the set of data point assignments for each ith cluster centroid be Si."
   ]
  },
  {
   "cell_type": "markdown",
   "metadata": {
    "deletable": true,
    "editable": true
   },
   "source": [
    "2.Centroid Udpate\n",
    "\n",
    "In this step, the centroids are recomputed. This is done by taking the mean of all data points assigned to that centroid's cluster.\n",
    "\n",
    "$$c_i=\\frac{1}{|S_i|}\\sum_{x_i \\in S_i x_i}$$"
   ]
  },
  {
   "cell_type": "markdown",
   "metadata": {
    "deletable": true,
    "editable": true
   },
   "source": [
    "3.Choosing K\n",
    "\n",
    "The algorithm described above finds the clusters and data set labels for a particular pre-chosen K. To find the number of clusters in the data, the user needs to run the K-means clustering algorithm for a range of K values and compare the results. In general, there is no method for determining exact value of K, but an accurate estimate can be obtained using the following techniques.\n",
    "\n",
    "One of the metrics that is commonly used to compare results across different values of K is the mean distance between data points and their cluster centroid. Since increasing the number of clusters will always reduce the distance to data points, increasing K will always decrease this metric, to the extreme of reaching zero when K is the same as the number of data points. Thus, this metric cannot be used as the sole target. Instead, mean distance to the centroid as a function of K is plotted and the \"elbow point,\" where the rate of decrease sharply shifts, can be used to roughly determine K.\n",
    "\n",
    "A number of other techniques exist for validating K, including cross-validation, information criteria, the information theoretic jump method, the silhouette method, and the G-means algorithm. In addition, monitoring the distribution of data points across groups provides insight into how the algorithm is splitting the data for each K."
   ]
  },
  {
   "cell_type": "markdown",
   "metadata": {
    "deletable": true,
    "editable": true
   },
   "source": [
    "![Elbow Point](elbow_point.png)"
   ]
  },
  {
   "cell_type": "markdown",
   "metadata": {
    "deletable": true,
    "editable": true
   },
   "source": [
    "K Means Function in Opencv"
   ]
  },
  {
   "cell_type": "markdown",
   "metadata": {
    "deletable": true,
    "editable": true
   },
   "source": [
    "Input parameters\n",
    "1. samples : It should be of np.float32 data type, and each feature should be put in a single column.\n",
    "2. nclusters(K) : Number of clusters required at end\n",
    "3. criteria [It is the iteration termination criteria. When this criteria is satisfied, algorithm iteration stops. Actually,\n",
    "it should be a tuple of 3 parameters. They are ( type, max_iter, epsilon ):]\n",
    "    • 3.a - type of termination criteria [It has 3 flags as below:] cv2.TERM_CRITERIA_EPS\n",
    "            - stop the algorithm iteration if specified accuracy, epsilon is reached.\n",
    "            cv2.TERM_CRITERIA_MAX_ITER - stop the algorithm after the specified number of\n",
    "            iterations, max_iter. cv2.TERM_CRITERIA_EPS + cv2.TERM_CRITERIA_MAX_ITER -\n",
    "            stop the iteration when any of the above condition is met.\n",
    "    • 3.b - max_iter - An integer specifying maximum number of iterations.\n",
    "    • 3.c - epsilon - Required accuracy\n",
    "4. attempts : Flag to specify the number of times the algorithm is executed using different initial labellings. The\n",
    "algorithm returns the labels that yield the best compactness. This compactness is returned as output.\n",
    "5. flags : This flag is used to specify how initial centers are taken. Normally two flags are used for this :\n",
    "cv2.KMEANS_PP_CENTERS and cv2.KMEANS_RANDOM_CENTERS.\n",
    "\n",
    "Output parameters\n",
    "    1. compactness : It is the sum of squared distance from each point to their corresponding centers.\n",
    "    2. labels : This is the label array (same as ‘code’ in previous article) where each element marked ‘0’, ‘1’.....\n",
    "    3. centers : This is array of centers of clusters."
   ]
  },
  {
   "cell_type": "markdown",
   "metadata": {
    "collapsed": true,
    "deletable": true,
    "editable": true
   },
   "source": [
    "Consider data with only one feature.Example would the t-shirt size"
   ]
  },
  {
   "cell_type": "markdown",
   "metadata": {
    "deletable": true,
    "editable": true
   },
   "source": [
    "The data is created using matplotlib"
   ]
  },
  {
   "cell_type": "code",
   "execution_count": 1,
   "metadata": {
    "collapsed": false,
    "deletable": true,
    "editable": true
   },
   "outputs": [
    {
     "data": {
      "image/png": "[encoded data removed]",
      "text/plain": [
       "<matplotlib.figure.Figure at 0x7f1b9814b3c8>"
      ]
     },
     "metadata": {},
     "output_type": "display_data"
    },
    {
     "data": {
      "text/plain": [
       "((array([ 0.,  0.,  0.,  0.,  0.,  0.,  0.,  0.,  0.,  0.,  0.,  0.,  0.,\n",
       "          0.,  0.,  0.,  0.,  0.,  0.,  0.,  0.,  0.,  0.,  0.,  0.,  1.,\n",
       "          0.,  0.,  0.,  0.,  0.,  0.,  1.,  0.,  0.,  0.,  0.,  0.,  1.,\n",
       "          2.,  0.,  0.,  0.,  0.,  0.,  1.,  1.,  0.,  0.,  0.,  0.,  2.,\n",
       "          1.,  0.,  0.,  0.,  0.,  0.,  0.,  0.,  2.,  0.,  1.,  1.,  0.,\n",
       "          0.,  1.,  0.,  0.,  0.,  1.,  0.,  0.,  0.,  0.,  1.,  1.,  0.,\n",
       "          0.,  0.,  0.,  0.,  0.,  0.,  1.,  0.,  0.,  0.,  1.,  1.,  0.,\n",
       "          0.,  0.,  1.,  1.,  1.,  0.,  1.,  0.,  0.,  0.,  0.,  0.,  0.,\n",
       "          0.,  0.,  0.,  0.,  0.,  0.,  0.,  0.,  0.,  0.,  0.,  0.,  0.,\n",
       "          0.,  0.,  0.,  0.,  0.,  0.,  0.,  0.,  0.,  0.,  0.,  0.,  0.,\n",
       "          0.,  0.,  0.,  0.,  0.,  0.,  0.,  0.,  0.,  0.,  0.,  0.,  0.,\n",
       "          0.,  0.,  0.,  0.,  0.,  0.,  0.,  0.,  0.,  0.,  0.,  0.,  0.,\n",
       "          0.,  0.,  0.,  0.,  0.,  0.,  0.,  0.,  0.,  0.,  0.,  0.,  0.,\n",
       "          0.,  0.,  0.,  0.,  0.,  0.,  0.,  1.,  1.,  1.,  0.,  0.,  0.,\n",
       "          0.,  0.,  0.,  0.,  0.,  0.,  0.,  1.,  1.,  1.,  0.,  0.,  0.,\n",
       "          0.,  0.,  0.,  0.,  0.,  0.,  0.,  1.,  0.,  0.,  1.,  0.,  0.,\n",
       "          0.,  1.,  0.,  1.,  0.,  0.,  0.,  0.,  0.,  0.,  1.,  0.,  0.,\n",
       "          1.,  0.,  0.,  0.,  0.,  0.,  0.,  0.,  2.,  0.,  1.,  2.,  0.,\n",
       "          0.,  0.,  1.,  0.,  0.,  0.,  1.,  0.,  0.,  0.,  1.,  1.,  2.,\n",
       "          0.,  0.,  0.,  0.,  0.,  0.,  2.,  0.,  0.]),\n",
       "  array([   0.,    1.,    2.,    3.,    4.,    5.,    6.,    7.,    8.,\n",
       "            9.,   10.,   11.,   12.,   13.,   14.,   15.,   16.,   17.,\n",
       "           18.,   19.,   20.,   21.,   22.,   23.,   24.,   25.,   26.,\n",
       "           27.,   28.,   29.,   30.,   31.,   32.,   33.,   34.,   35.,\n",
       "           36.,   37.,   38.,   39.,   40.,   41.,   42.,   43.,   44.,\n",
       "           45.,   46.,   47.,   48.,   49.,   50.,   51.,   52.,   53.,\n",
       "           54.,   55.,   56.,   57.,   58.,   59.,   60.,   61.,   62.,\n",
       "           63.,   64.,   65.,   66.,   67.,   68.,   69.,   70.,   71.,\n",
       "           72.,   73.,   74.,   75.,   76.,   77.,   78.,   79.,   80.,\n",
       "           81.,   82.,   83.,   84.,   85.,   86.,   87.,   88.,   89.,\n",
       "           90.,   91.,   92.,   93.,   94.,   95.,   96.,   97.,   98.,\n",
       "           99.,  100.,  101.,  102.,  103.,  104.,  105.,  106.,  107.,\n",
       "          108.,  109.,  110.,  111.,  112.,  113.,  114.,  115.,  116.,\n",
       "          117.,  118.,  119.,  120.,  121.,  122.,  123.,  124.,  125.,\n",
       "          126.,  127.,  128.,  129.,  130.,  131.,  132.,  133.,  134.,\n",
       "          135.,  136.,  137.,  138.,  139.,  140.,  141.,  142.,  143.,\n",
       "          144.,  145.,  146.,  147.,  148.,  149.,  150.,  151.,  152.,\n",
       "          153.,  154.,  155.,  156.,  157.,  158.,  159.,  160.,  161.,\n",
       "          162.,  163.,  164.,  165.,  166.,  167.,  168.,  169.,  170.,\n",
       "          171.,  172.,  173.,  174.,  175.,  176.,  177.,  178.,  179.,\n",
       "          180.,  181.,  182.,  183.,  184.,  185.,  186.,  187.,  188.,\n",
       "          189.,  190.,  191.,  192.,  193.,  194.,  195.,  196.,  197.,\n",
       "          198.,  199.,  200.,  201.,  202.,  203.,  204.,  205.,  206.,\n",
       "          207.,  208.,  209.,  210.,  211.,  212.,  213.,  214.,  215.,\n",
       "          216.,  217.,  218.,  219.,  220.,  221.,  222.,  223.,  224.,\n",
       "          225.,  226.,  227.,  228.,  229.,  230.,  231.,  232.,  233.,\n",
       "          234.,  235.,  236.,  237.,  238.,  239.,  240.,  241.,  242.,\n",
       "          243.,  244.,  245.,  246.,  247.,  248.,  249.,  250.,  251.,\n",
       "          252.,  253.,  254.,  255.,  256.]),\n",
       "  <a list of 256 Patch objects>),\n",
       " None)"
      ]
     },
     "execution_count": 1,
     "metadata": {},
     "output_type": "execute_result"
    }
   ],
   "source": [
    "import numpy as np\n",
    "import cv2\n",
    "from matplotlib import pyplot as plt\n",
    "x = np.random.randint(25,100,25)\n",
    "y = np.random.randint(175,255,25)\n",
    "z = np.hstack((x,y))\n",
    "z = z.reshape((50,1))\n",
    "z = np.float32(z)\n",
    "plt.hist(z,256,[0,256]),plt.show()"
   ]
  },
  {
   "cell_type": "markdown",
   "metadata": {
    "deletable": true,
    "editable": true
   },
   "source": [
    "z is a array of size 50 with values in between 0 and 255. z is reshaped as a column vector.This will be useful in higher dimensional feature space.The criteria is such that, whenever 10 iterations of algorithm is ran, or an accuracy of epsilon = 1.0 is reached, stop the algorithm and return the answer"
   ]
  },
  {
   "cell_type": "code",
   "execution_count": 2,
   "metadata": {
    "collapsed": false,
    "deletable": true,
    "editable": true
   },
   "outputs": [
    {
     "data": {
      "image/png": "[encoded data removed]",
      "text/plain": [
       "<matplotlib.figure.Figure at 0x7f1b92ab3f60>"
      ]
     },
     "metadata": {},
     "output_type": "display_data"
    }
   ],
   "source": [
    "# Define criteria = ( type, max_iter = 10 , epsilon = 1.0 )\n",
    "criteria = (cv2.TERM_CRITERIA_EPS + cv2.TERM_CRITERIA_MAX_ITER, 10, 1.0)\n",
    "\n",
    "# Set flags (Just to avoid line break in the code)\n",
    "flags = cv2.KMEANS_RANDOM_CENTERS\n",
    "\n",
    "# Apply KMeans\n",
    "compactness,labels,centers = cv2.kmeans(z,2,None,criteria,10,flags)\n",
    "\n",
    "A = z[labels==0]\n",
    "B = z[labels==1]\n",
    "\n",
    "# Now plot 'A' in red, 'B' in blue, 'centers' in yellow\n",
    "plt.hist(A,256,[0,256],color = 'r')\n",
    "plt.hist(B,256,[0,256],color = 'b')\n",
    "plt.hist(centers,32,[0,256],color = 'y')\n",
    "plt.show()\n"
   ]
  },
  {
   "cell_type": "markdown",
   "metadata": {
    "deletable": true,
    "editable": true
   },
   "source": [
    "If flags = cv2.KMEANS_PP_CENTERS then"
   ]
  },
  {
   "cell_type": "code",
   "execution_count": 5,
   "metadata": {
    "collapsed": false,
    "deletable": true,
    "editable": true
   },
   "outputs": [
    {
     "data": {
      "image/png": "[encoded data removed]",
      "text/plain": [
       "<matplotlib.figure.Figure at 0x7f1b90c59ba8>"
      ]
     },
     "metadata": {},
     "output_type": "display_data"
    }
   ],
   "source": [
    "criteria = (cv2.TERM_CRITERIA_EPS + cv2.TERM_CRITERIA_MAX_ITER, 10, 1.0)\n",
    "flags = cv2.KMEANS_PP_CENTERS\n",
    "compactness,labels,centers = cv2.kmeans(z,2,None,criteria,10,flags)\n",
    "\n",
    "A = z[labels==0]\n",
    "B = z[labels==1]\n",
    "\n",
    "plt.hist(A,256,[0,256],color = 'r')\n",
    "plt.hist(B,256,[0,256],color = 'b')\n",
    "plt.hist(centers,32,[0,256],color = 'y')\n",
    "plt.show()"
   ]
  },
  {
   "cell_type": "markdown",
   "metadata": {
    "deletable": true,
    "editable": true
   },
   "source": [
    "Note that the flag = cv2.KMEANS_RANDOM_CENTERS starts with a different initialization every thing and so the clusters and their centroids are different everytime the code is runned"
   ]
  },
  {
   "cell_type": "markdown",
   "metadata": {
    "deletable": true,
    "editable": true
   },
   "source": [
    "To consider more than one feature space, the following example is considered"
   ]
  },
  {
   "cell_type": "markdown",
   "metadata": {
    "deletable": true,
    "editable": true
   },
   "source": [
    "In the previous problem we only took the height for the tshirt classification.Now we will consider the weight aslo a feature"
   ]
  },
  {
   "cell_type": "markdown",
   "metadata": {
    "deletable": true,
    "editable": true
   },
   "source": [
    "Each feature is arranged in a column, while each row corresponds to an input test sample.\n",
    "For example, in this case, we set a test data of size 50x2, which are heights and weights of 50 people. First column\n",
    "corresponds to height of all the 50 people and second column corresponds to their weights. First row contains two\n",
    "elements where first one is the height of first person and second one his weight. Similarly remaining rows corresponds\n",
    "to heights and weights of other people."
   ]
  },
  {
   "cell_type": "code",
   "execution_count": 7,
   "metadata": {
    "collapsed": false,
    "deletable": true,
    "editable": true
   },
   "outputs": [
    {
     "data": {
      "image/png": "[encoded data removed]",
      "text/plain": [
       "<matplotlib.figure.Figure at 0x7f1b90e4cb38>"
      ]
     },
     "metadata": {},
     "output_type": "display_data"
    }
   ],
   "source": [
    "import numpy as np\n",
    "import cv2\n",
    "from matplotlib import pyplot as plt\n",
    "\n",
    "X = np.random.randint(25,50,(25,2))\n",
    "Y = np.random.randint(60,85,(25,2))\n",
    "Z = np.vstack((X,Y))\n",
    "\n",
    "# convert to np.float32\n",
    "Z = np.float32(Z)\n",
    "\n",
    "# define criteria and apply kmeans()\n",
    "criteria = (cv2.TERM_CRITERIA_EPS + cv2.TERM_CRITERIA_MAX_ITER, 10, 1.0)\n",
    "ret,label,center=cv2.kmeans(Z,2,None,criteria,10,cv2.KMEANS_RANDOM_CENTERS)\n",
    "\n",
    "# Now separate the data, Note the flatten()\n",
    "A = Z[label.ravel()==0]\n",
    "B = Z[label.ravel()==1]\n",
    "\n",
    "# Plot the data\n",
    "plt.scatter(A[:,0],A[:,1])\n",
    "plt.scatter(B[:,0],B[:,1],c = 'r')\n",
    "plt.scatter(center[:,0],center[:,1],s = 80,c = 'y', marker = 's')\n",
    "plt.xlabel('Height'),plt.ylabel('Weight')\n",
    "plt.show()"
   ]
  },
  {
   "cell_type": "markdown",
   "metadata": {
    "deletable": true,
    "editable": true
   },
   "source": [
    "### Color Quantisation:"
   ]
  },
  {
   "cell_type": "markdown",
   "metadata": {
    "deletable": true,
    "editable": true
   },
   "source": [
    "Color Quantization is the process of reducing number of colors in an image. One reason to do so is to reduce the\n",
    "memory. Sometimes, some devices may have limitation such that it can produce only limited number of colors. In\n",
    "those cases also, color quantization is performed. Here we use k-means clustering for color quantization."
   ]
  },
  {
   "cell_type": "markdown",
   "metadata": {
    "deletable": true,
    "editable": true
   },
   "source": [
    "There are 3 features, say, R,G,B.The the image has to be changed into a linear strip where each element is a pixel value (b,g,r).Then the cv2.kmeans function is applied to find the clusters and reduce the color space"
   ]
  },
  {
   "cell_type": "code",
   "execution_count": 11,
   "metadata": {
    "collapsed": false,
    "deletable": true,
    "editable": true
   },
   "outputs": [
    {
     "data": {
      "text/plain": [
       "True"
      ]
     },
     "execution_count": 11,
     "metadata": {},
     "output_type": "execute_result"
    }
   ],
   "source": [
    "import numpy as np\n",
    "import cv2\n",
    "img = cv2.imread('swan.jpeg')\n",
    "Z = img.reshape((-1,3))\n",
    "\n",
    "# convert to np.float32\n",
    "Z = np.float32(Z)\n",
    "\n",
    "# define criteria, number of clusters(K) and apply kmeans()\n",
    "criteria = (cv2.TERM_CRITERIA_EPS + cv2.TERM_CRITERIA_MAX_ITER, 10, 1.0)\n",
    "K = 2\n",
    "ret,label,center=cv2.kmeans(Z,K,None,criteria,10,cv2.KMEANS_RANDOM_CENTERS)\n",
    "\n",
    "# Now convert back into uint8, and make original image\n",
    "center = np.uint8(center)\n",
    "res = center[label.flatten()]\n",
    "res2 = res.reshape((img.shape))\n",
    "cv2.imshow('res2',res2)\n",
    "cv2.waitKey(0)\n",
    "cv2.destroyAllWindows()\n",
    "cv2.imwrite(\"swan_kmeans.jpeg\",res2)"
   ]
  },
  {
   "cell_type": "markdown",
   "metadata": {
    "deletable": true,
    "editable": true
   },
   "source": [
    "![swan_actual](swan.jpeg)"
   ]
  },
  {
   "cell_type": "markdown",
   "metadata": {
    "deletable": true,
    "editable": true
   },
   "source": [
    "![swan_2](swan_2.jpeg)"
   ]
  },
  {
   "cell_type": "markdown",
   "metadata": {
    "deletable": true,
    "editable": true
   },
   "source": [
    "### References"
   ]
  },
  {
   "cell_type": "markdown",
   "metadata": {
    "deletable": true,
    "editable": true
   },
   "source": [
    "http://syskall.com/kmeans.js/"
   ]
  },
  {
   "cell_type": "markdown",
   "metadata": {
    "deletable": true,
    "editable": true
   },
   "source": [
    "https://www.datascience.com/blog/introduction-to-k-means-clustering-algorithm-learn-data-science-tutorials"
   ]
  }
 ],
 "metadata": {
  "kernelspec": {
   "display_name": "Python 3",
   "language": "python",
   "name": "python3"
  },
  "language_info": {
   "codemirror_mode": {
    "name": "ipython",
    "version": 3
   },
   "file_extension": ".py",
   "mimetype": "text/x-python",
   "name": "python",
   "nbconvert_exporter": "python",
   "pygments_lexer": "ipython3",
   "version": "3.5.2"
  }
 },
 "nbformat": 4,
 "nbformat_minor": 2
}
