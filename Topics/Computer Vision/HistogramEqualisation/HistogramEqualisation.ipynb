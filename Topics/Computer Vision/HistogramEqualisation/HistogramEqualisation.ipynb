{
 "cells": [
  {
   "cell_type": "markdown",
   "metadata": {
    "deletable": true,
    "editable": true
   },
   "source": [
    "# Histogram Equalization \n",
    "### By T Lokesh Kumar "
   ]
  },
  {
   "cell_type": "markdown",
   "metadata": {
    "deletable": true,
    "editable": true
   },
   "source": [
    "## What is Histogram??\n",
    "\n",
    "In Statistics, Histogram is a graphical representation showing a visual impression of the distribution of data.\n",
    "\n",
    "![exams](exams.jpg)\n",
    "\n",
    "We can note in the image above that vividly shows the distribution of marks\n",
    "of a class. Along X-axis we have marks bins (each of 10 Marks width) and histograms describes how the marks of the class is spread among students. Moreover we can note that less students have got marks between 90-100 and 0-10. Many students have got marks between 50-60 \n",
    "\n",
    "## Histogram in the context of image processing\n",
    "\n",
    "Similarly, image processing histogram normally refers to the histogram of pixel intensity values. For an 8-bit gray scale image, we have 256 possible intensity values (0 to 255) => we have 256 divisions along x axis, each representing gray scale intesities and histogram(as in the case of exams) show the distribution of pixels  amongst those gray scale values. \n",
    "\n",
    "Example of a histogram of an image\n",
    "\n",
    "![histogramexample](histogramexample.jpg)\n",
    "\n",
    "## Histogram Processing\n",
    "\n",
    "Its usually advised to normalize a histogram by dividing each of its value by total number of pixels in that image, thus forming a normalised histogram. \n",
    "\n",
    "This normalised histogram can be interpreted probability functions that denote the probability of occurrence of a gray scale intensity rk (just a variable) in the image. But it goes without mentioning that sum of of all components of a normalized histogram is 1.  \n",
    "\n",
    "We will see how to exploit the properties of image histograms using OpenCV and python."
   ]
  },
  {
   "cell_type": "markdown",
   "metadata": {
    "deletable": true,
    "editable": true
   },
   "source": [
    "### Histogram calculation function in OpenCV"
   ]
  },
  {
   "cell_type": "code",
   "execution_count": null,
   "metadata": {
    "collapsed": true,
    "deletable": true,
    "editable": true
   },
   "outputs": [],
   "source": [
    "import cv2\n",
    "import matplotlib.pyplot as plt\n",
    "img = cv2.imread('space.jpg')\n",
    "cv2.imshow(\"Space\", img)\n",
    "cv2.waitKey()\n",
    "img = cv2.cvtColor(img, cv2.COLOR_BGR2GRAY)\n",
    "hist = cv2.calcHist([img],[0], None, [256], [0,256])\n",
    "# Note: Histograms can be calculated using numpy functions also. They will\n",
    "# also the same output as the openCV functions. But the OpenCV functions are \n",
    "# more faster (40X) than numpy functions\n",
    "#Code in Numpy\n",
    "# hist, bins = np.histogram(img.ravel(), 256, [0,256])\n",
    "plt.plot(hist)\n",
    "plt.xlabel('Pixel intensity values (0 - 255)')\n",
    "plt.ylabel('No of pixels')\n",
    "plt.title('Image Histogram for space.jpg')\n",
    "plt.savefig('histo_space.jpg')\n",
    "plt.show()"
   ]
  },
  {
   "cell_type": "markdown",
   "metadata": {
    "deletable": true,
    "editable": true
   },
   "source": [
    "![space](space.jpg)\n",
    "\n",
    "![histo_space](histo_space.jpg)"
   ]
  },
  {
   "cell_type": "markdown",
   "metadata": {
    "deletable": true,
    "editable": true
   },
   "source": [
    "### Caluculation and plotting histograms for BGR images (colored images)"
   ]
  },
  {
   "cell_type": "code",
   "execution_count": null,
   "metadata": {
    "collapsed": true,
    "deletable": true,
    "editable": true
   },
   "outputs": [],
   "source": [
    "import cv2\n",
    "import numpy as np\n",
    "import matplotlib.pyplot as plt\n",
    "\n",
    "img = cv2.imread('space.jpg')\n",
    "color = {'b','g','r'}\n",
    "for i,col in enumerate(color):\n",
    "    histr = cv2.calcHist([img], [i], None, [256], [0,256])\n",
    "    plt.plot(histr, color = col)\n",
    "    plt.xlim([0,256])\n",
    "plt.show()"
   ]
  },
  {
   "cell_type": "markdown",
   "metadata": {
    "deletable": true,
    "editable": true
   },
   "source": [
    "![color_hist](color_hist.jpg)"
   ]
  },
  {
   "cell_type": "markdown",
   "metadata": {
    "deletable": true,
    "editable": true
   },
   "source": [
    "### Application of mask"
   ]
  },
  {
   "cell_type": "markdown",
   "metadata": {
    "deletable": true,
    "editable": true
   },
   "source": [
    "We generally use cv2.calcHist() to find the histogram fo the full image. There may be some cases where you may want to only find the histogram of certain regions of the image. Then we apply what is called masking.\n",
    "\n",
    "In the regions where you want to find the histograms, you must create a white color patch, in other regions create a black color patch.Then pass this as a mask"
   ]
  },
  {
   "cell_type": "code",
   "execution_count": null,
   "metadata": {
    "collapsed": true,
    "deletable": true,
    "editable": true
   },
   "outputs": [],
   "source": [
    "import cv2\n",
    "img = cv2.imread('space.jpg', 0)\n",
    "\n",
    "#Create a mask\n",
    "mask = np.zeros(img[:2], np.uint8)\n",
    "mask[100:300,100:400] = 255\n",
    "masked_img = cv2.bitwise_and(img, img, mask = mask)\n",
    "\n",
    "#Calculate histogram with mask and without mask\n",
    "#Check third argument for mask\n",
    "hist_full = cv2.calcHist([img], [0], None, [256], [0,256])\n",
    "hist_mask = cv2.calcHist([img], [0], mask, [256], [0,256])\n",
    "plt.subplot(221), plt.imshow(img, 'gray')\n",
    "plt.subplot(222), plt.imshow(mask, 'gray')\n",
    "plt.subplot(224), plt.imshow(masked_img, 'gray')\n",
    "plt.subplot(224), plt.plto(hist_full), plt.plot(hist_mask)\n",
    "plt.xlim([0,256])\n",
    "\n",
    "plt.show()"
   ]
  },
  {
   "cell_type": "markdown",
   "metadata": {
    "deletable": true,
    "editable": true
   },
   "source": [
    "Output is:\n",
    "![mask_hist](mask_hist.jpg)"
   ]
  },
  {
   "cell_type": "markdown",
   "metadata": {
    "deletable": true,
    "editable": true
   },
   "source": [
    "## Histogram Equalization"
   ]
  },
  {
   "cell_type": "markdown",
   "metadata": {
    "deletable": true,
    "editable": true
   },
   "source": [
    "### Why is histogram equalisation used??\n",
    "\n",
    "Histogram equalization is a method in image processing of contrast adjustment using the image's histogram. It is not necessary that contrast will always be increase in this. There may be some cases were histogram equalization can be worse. In that cases the contrast is decreased.\n",
    "\n",
    "Note: Generally, histogram equalisation is useful only when the histogram is confined to one region of the image. It does not work when there is large intensity variations, (i.e) where histogram covers a large area.\n",
    "\n",
    "### How does Histogram equalisation enhance contrast??\n",
    "\n",
    "This method usually increases the global contrast of many images, especially when the usable data of the image is represented by close contrast values. Through this adjustment, the intensities can be better distributed on the histogram. This allows for areas of lower local contrast to gain a higher contrast. Histogram equalization accomplishes this by effectively spreading out the most frequent intensity values.\n",
    "\n",
    "For an example, \n",
    "You can see the changes that occur after histogram equalisation, (notice the increase in contrast in the new image)\n",
    "<img src = \"old_hist.jpg\">\n",
    "The intensities are distributed evenly accross the histogram, which is shown here,\n",
    "<img src = \"hist_equal.png\">"
   ]
  },
  {
   "cell_type": "markdown",
   "metadata": {
    "collapsed": true,
    "deletable": true,
    "editable": true
   },
   "source": [
    "### Histogram equalisation in OpenCV"
   ]
  },
  {
   "cell_type": "code",
   "execution_count": null,
   "metadata": {
    "collapsed": false,
    "deletable": true,
    "editable": true
   },
   "outputs": [],
   "source": [
    "import cv2\n",
    "import numpy as np\n",
    "import matplotlib.pyplot as plt\n",
    "\n",
    "img = cv2.imread('wiki.jpg',0)\n",
    "equ = cv2.equalizeHist(img)\n",
    "res = np.hstack((img, equ))\n",
    "cv2.imshow(\"Equalised Histogram\", res)\n",
    "cv2.waitKey(0)\n",
    "cv2.destroyAllWindows()"
   ]
  },
  {
   "cell_type": "markdown",
   "metadata": {
    "deletable": true,
    "editable": true
   },
   "source": [
    "![equalised_image](histo_equa.jpg)"
   ]
  },
  {
   "cell_type": "markdown",
   "metadata": {
    "deletable": true,
    "editable": true
   },
   "source": [
    "In the above image we can note increase in contrast in the image. Generally, histogram modeling techniques (e.g. histogram equalization) provide a sophisticated method for modifying the dynamic range and contrast of an image by altering that image such that its intensity histogram has a desired shape (here a flat histogram).\n",
    "\n",
    " Histogram equalization employs a monotonic, non-linear mapping which re-assigns the intensity values of pixels in the input image such that the output image contains a uniform distribution of intensities (i.e. a flat histogram).\n",
    " \n",
    "![Transfer Function](heqtrans.gif)"
   ]
  },
  {
   "cell_type": "markdown",
   "metadata": {
    "deletable": true,
    "editable": true
   },
   "source": [
    "### CLAHE (Contrast Limited Adaptive Histogram Equalization)\n",
    "\n",
    "Applying histogram equalisation, considers global contrast of the image. It differs from ordinary histogram equalization in the respect that the adaptive method computes several histograms, each corresponding to a distinct section of the image, and uses them to redistribute the lightness values of the image. It is therefore suitable for improving the local contrast and enhancing the definitions of edges in each region of an image\n",
    "\n",
    "### CLAHE in openCV"
   ]
  },
  {
   "cell_type": "code",
   "execution_count": null,
   "metadata": {
    "collapsed": true,
    "deletable": true,
    "editable": true
   },
   "outputs": [],
   "source": [
    "import cv2\n",
    "import numpy as np\n",
    "\n",
    "img = cv2.imread('tsukuba_1.png', 0)\n",
    "\n",
    "# Create a CLAHE object (Arguments are optional)\n",
    "clahe = cv2.createCLAHE(clipLimit = 2.0, tileGridSize = (8,8))\n",
    "cll = clahe.apply(img)\n",
    "\n",
    "cv2.imwrite('clahe_2.jpg', cll)"
   ]
  },
  {
   "cell_type": "markdown",
   "metadata": {
    "deletable": true,
    "editable": true
   },
   "source": [
    "See the result baloe and compare with the global histogram equalisation. Im attaching all the three images for reference.\n",
    "![Before_CLAHE](befor_hist.jpg)\n",
    "\n",
    "After applying CLAHE\n",
    "\n",
    "![After_CLAHE](after_clahe.jpg)"
   ]
  },
  {
   "cell_type": "markdown",
   "metadata": {
    "deletable": true,
    "editable": true
   },
   "source": [
    "## Histogram Backprojection\n",
    "\n",
    "### Theory\n",
    "\n",
    "It is used for image segmentation or finding objects of interest in an image. In simple words, it creates an image of the same size (but single channel) as that of our input image, where each pixel corresponds to the probability of that pixel belonging to our object. In more simpler worlds, the output image will have our object of interest in more white compared to remaining part. Well, that is an intuitive explanation. (I can’t make it more simpler). Histogram Backprojection is used with camshift algorithm etc.\n",
    "\n",
    "### Histogram backprojection in OpenCV\n"
   ]
  },
  {
   "cell_type": "code",
   "execution_count": null,
   "metadata": {
    "collapsed": true,
    "deletable": true,
    "editable": true
   },
   "outputs": [],
   "source": [
    "import cv2\n",
    "import numpy as np\n",
    "\n",
    "roi = cv2.imread(\"rose_red.png\")\n",
    "hsv = cv2.cvtColor(roi, cv2.COLOR_BGR2HSV)\n",
    "\n",
    "target = cv2.imread('rose.png')\n",
    "hsvt =  cv2.cvtColor(roit, cv2.COLOR_BGR2HSV)\n",
    "\n",
    "#Calculating the object histogram\n",
    "roihist = cv2.calcHist([hsv], [0,1], None, [180,256], [0,180,0,256])\n",
    "\n",
    "#normalize the histogram and apply backprojection\n",
    "cv2.normalize(roihist, roihist, [0,1], cv2.NORM_MINMAX)\n",
    "dst  cv2.calcBackProject([hsvt], [0,1], roihist, [0,180,0,256],1)\n",
    "\n",
    "#Now convolve with circular disc\n",
    "disc = cv2.getStructuringElement(cv2.MORPH_ELLIPSE, (5,5))\n",
    "cv2.filter2D(dst, -1, disc, dst)\n",
    "\n",
    "#thresholding and binary and\n",
    "ret, thresh = cv2.threshold(dst, 50,255,0)\n",
    "thresh = cv2.merge((thresh, thresh, thresh))\n",
    "res = cv2.bitwise_and(target, thresh)\n",
    "\n",
    "res = np.hstack((target, thresh, res))\n",
    "cv2.imwrite('res.jpg', res)\n"
   ]
  },
  {
   "cell_type": "markdown",
   "metadata": {
    "deletable": true,
    "editable": true
   },
   "source": [
    "The output is as follows:\n",
    "\n",
    "![Histogram BackProjection](backproject.jpg)"
   ]
  },
  {
   "cell_type": "markdown",
   "metadata": {
    "deletable": true,
    "editable": true
   },
   "source": [
    "## References\n",
    "\n",
    "[Histogram Equalisation](http://homepages.inf.ed.ac.uk/rbf/HIPR2/histeq.htm)\n",
    "\n",
    "[Image analysis, Intensity Histograms](homepages.inf.ed.ac.uk/rbf/HIPR2/histgram.htm)"
   ]
  }
 ],
 "metadata": {
  "kernelspec": {
   "display_name": "Python 3",
   "language": "python",
   "name": "python3"
  },
  "language_info": {
   "codemirror_mode": {
    "name": "ipython",
    "version": 3
   },
   "file_extension": ".py",
   "mimetype": "text/x-python",
   "name": "python",
   "nbconvert_exporter": "python",
   "pygments_lexer": "ipython3",
   "version": "3.5.2"
  }
 },
 "nbformat": 4,
 "nbformat_minor": 2
}
