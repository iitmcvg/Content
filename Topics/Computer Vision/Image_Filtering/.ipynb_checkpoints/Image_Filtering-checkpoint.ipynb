{
 "cells": [
  {
   "cell_type": "markdown",
   "metadata": {
    "deletable": true,
    "editable": true
   },
   "source": [
    "## Introduction:\n",
    "  \n",
    "  As for one-dimensional signals, images also can be filtered with various low-pass filters (LPF), high-pass filters(HPF1)etc.\n",
    "  A LPF helps in removing noise, or blurring the image. A HPF filters helps in finding edges in an image.\n",
    "OpenCV provides a function, cv2.filter2D(), to convolve a kernel with an image.\n",
    "\n",
    "\n",
    "\n",
    "As an example, we will try an\n",
    "averaging filter on an image. A 5x5 averaging filter kernel can be defined as follows:\n",
    "\n",
    "\n",
    "\n",
    "                            [  1 1 1 1 1\n",
    "                 K  =  1/25    1 1 1 1 1\n",
    "                               1 1 1 1 1\n",
    "                               1 1 1 1 1\n",
    "                               1 1 1 1 1 ]\n",
    "\n",
    "\n",
    "Filtering with the above kernel results in the following being performed: for each pixel, a 5x5 window is centered on\n",
    "this pixel, all pixels falling within this window are summed up, and the result is then divided by 25. This equates to\n",
    "computing the average of the pixel values inside that window. This operation is performed for all the pixels in the\n",
    "image to produce the output filtered image. Try this code and check the result:\n",
    "\n",
    "\n",
    "\n"
   ]
  },
  {
   "cell_type": "code",
   "execution_count": null,
   "metadata": {
    "collapsed": true,
    "deletable": true,
    "editable": true
   },
   "outputs": [],
   "source": [
    "import cv2\n",
    "import numpy as np\n",
    "from matplotlib import pyplot as plt\n",
    "\n",
    "#Reading the image\n",
    "img = cv2.imread('opencv_logo.jpg')\n",
    "\n",
    "#Creating the Averaging Kernel\n",
    "kernel = np.ones((5,5),np.float32)/25\n",
    "\n",
    "#Convolving it with the given image\n",
    "dst = cv2.filter2D(img,-1,kernel)\n",
    "\n",
    "#Plotting them\n",
    "plt.subplot(121),plt.imshow(img),plt.title('Original')\n",
    "plt.xticks([]), plt.yticks([])\n",
    "plt.subplot(122),plt.imshow(dst),plt.title('Averaging')\n",
    "plt.xticks([]), plt.yticks([])\n",
    "plt.show()"
   ]
  },
  {
   "cell_type": "markdown",
   "metadata": {
    "deletable": true,
    "editable": true
   },
   "source": [
    "![Blurring](opencv_logo.jpg)"
   ]
  },
  {
   "cell_type": "markdown",
   "metadata": {
    "deletable": true,
    "editable": true
   },
   "source": [
    "# Image Blurring (Image Smoothing):\n",
    "\n",
    "Image blurring is achieved by convolving the image with a low-pass filter kernel. It is useful for removing noise. It\n",
    "actually removes high frequency content (e.g: noise, edges) from the image resulting in edges being blurred when this\n",
    "is filter is applied. (Well, there are blurring techniques which do not blur edges). OpenCV provides mainly four types\n",
    "of blurring techniques.\n"
   ]
  },
  {
   "cell_type": "markdown",
   "metadata": {
    "deletable": true,
    "editable": true
   },
   "source": [
    "### 1. Averaging\n",
    "This is done by convolving the image with a normalized box filter. It simply takes the average of all the pixels\n",
    "under kernel area and replaces the central element with this average. This is done by the function cv2.blur() or\n",
    "cv2.boxFilter(). We should specify the width and height of kernel.\n",
    "A 3x3 normalized box filter would look like this:\n",
    "\n",
    "\n",
    "\n",
    "                       [ 1 1 1\n",
    "               k = 1/9   1 1 1\n",
    "                         1 1 1 ]\n"
   ]
  },
  {
   "cell_type": "code",
   "execution_count": null,
   "metadata": {
    "collapsed": true,
    "deletable": true,
    "editable": true
   },
   "outputs": [],
   "source": [
    "import cv2\n",
    "import numpy as np\n",
    "from matplotlib import pyplot as plt\n",
    "#Reading the image\n",
    "img = cv2.imread('opencv_logo.jpg')\n",
    "#creating the averaged image using cv2.blur()\n",
    "blur = cv2.blur(img,(5,5))\n",
    "#Plotting the images\n",
    "plt.subplot(121),plt.imshow(img),plt.title('Original')\n",
    "plt.xticks([]), plt.yticks([])\n",
    "plt.subplot(122),plt.imshow(blur),plt.title('Blurred')\n",
    "plt.xticks([]), plt.yticks([])\n",
    "plt.show()"
   ]
  },
  {
   "cell_type": "markdown",
   "metadata": {
    "collapsed": true,
    "deletable": true,
    "editable": true
   },
   "source": [
    "![Blurring](opencv_logo.jpg)"
   ]
  },
  {
   "cell_type": "markdown",
   "metadata": {
    "deletable": true,
    "editable": true
   },
   "source": [
    "### 2. Gaussian Filtering\n",
    "In this approach, instead of a box filter consisting of equal filter coefficients, a Gaussian kernel is used. It is done \n",
    "with the function, cv2.GaussianBlur(). \n",
    "     We should specify the width and height of the kernel which should be positive and\n",
    "odd. We also should specify the standard deviation in the X and Y directions, sigmaX and sigmaY respectively. If\n",
    "only sigmaX is specified, sigmaY is taken as equal to sigmaX.                                                                                         \n",
    "\n",
    "If both are given as zeros, they are calculated from the\n",
    "kernel size. Gaussian filtering is highly effective in removing Gaussian noise from the image.\n",
    "If you want, you can create a Gaussian kernel with the function, cv2.getGaussianKernel()"
   ]
  },
  {
   "cell_type": "code",
   "execution_count": null,
   "metadata": {
    "collapsed": true,
    "deletable": true,
    "editable": true
   },
   "outputs": [],
   "source": [
    "blur = cv2.GaussianBlur(img,(5,5),0)"
   ]
  },
  {
   "cell_type": "markdown",
   "metadata": {
    "deletable": true,
    "editable": true
   },
   "source": [
    "Instead of cv2.blur() use cv2.GaussianBlur()"
   ]
  },
  {
   "cell_type": "markdown",
   "metadata": {
    "deletable": true,
    "editable": true
   },
   "source": [
    "![Gaussian](Gaussian_Blur.jpg)"
   ]
  },
  {
   "cell_type": "markdown",
   "metadata": {
    "deletable": true,
    "editable": true
   },
   "source": [
    "### 3. Median Filtering:\n",
    "Here, the function cv2.medianBlur() computes the median of all the pixels under the kernel window and the central\n",
    "pixel is replaced with this median value. This is highly effective in removing salt-and-pepper noise. One interesting\n",
    "thing to note is that, in the Gaussian and box filters, the filtered value for the central element can be a value which\n",
    "may not exist in the original image. \n",
    "\n",
    "However this is not the case in median filtering, since the central element is always\n",
    "replaced by some pixel value in the image. This reduces the noise effectively. The kernel size must be a positive odd\n",
    "integer.\n",
    "\n",
    "Here a 50% noise is added to our original image and median filter is then used"
   ]
  },
  {
   "cell_type": "markdown",
   "metadata": {
    "deletable": true,
    "editable": true
   },
   "source": [
    "![Median Blur image](median_blur.jpg)"
   ]
  },
  {
   "cell_type": "markdown",
   "metadata": {
    "collapsed": true,
    "deletable": true,
    "editable": true
   },
   "source": [
    "### Bilateral Filtering:\n",
    " One of the biggest problems with the previous filters is that they blur the edges also.But bilateral Filtering is very effective in removing the noise as well as preseving the edges.\n",
    " The bilateral filtering is done by using the Gaussain kernel in space domain bout also uses one more multiplicative component which is Gaussian with difference in intensities as the input.The Gaussian function of space makes sure that\n",
    "only pixels are ‘spatial neighbors’ are considered for filtering, while the Gaussian component applied in the intensity\n",
    "domain (a Gaussian function of intensity differences) ensures that only those pixels with intensities similar to that of\n",
    "the central pixel (‘intensity neighbors’) are included to compute the blurred intensity value. As a result, this method\n",
    "preserves edges, since for pixels lying near edges, neighboring pixels placed on the other side of the edge, and\n",
    "therefore exhibiting large intensity variations when compared to the central pixel, will not be included for blurring"
   ]
  },
  {
   "cell_type": "markdown",
   "metadata": {
    "deletable": true,
    "editable": true
   },
   "source": [
    "![Bilateral explanation](bilateral_filter.jpeg)"
   ]
  },
  {
   "cell_type": "code",
   "execution_count": null,
   "metadata": {
    "collapsed": true,
    "deletable": true,
    "editable": true
   },
   "outputs": [],
   "source": [
    "#The cv2 function used is cv2.bilateralFilter()\n",
    "#arguments used are\n",
    "\"\"\"\n",
    "Input array src = source image\n",
    "int d = filter size\n",
    "double sigmacolour = Gaussian sigma for intensity differences \n",
    "double sigmaspace =  Gaussian sigma for the coordinates in the image\n",
    "int borderType = BORDER_DEFAULT\n",
    "\"\"\"\n",
    "blur = cv2.bilateralFilter(img,9,75,75)\n",
    "#Here the kernal size is 9X9 with sigmacolour and sigmaspace equal to 75"
   ]
  },
  {
   "cell_type": "code",
   "execution_count": 2,
   "metadata": {
    "collapsed": false,
    "deletable": true,
    "editable": true
   },
   "outputs": [
    {
     "data": {
      "image/jpeg": "[encoded data removed]",
      "text/plain": [
       "<IPython.core.display.Image object>"
      ]
     },
     "execution_count": 2,
     "metadata": {},
     "output_type": "execute_result"
    }
   ],
   "source": [
    "from IPython.display import Image\n",
    "Image(filename='bilateral1.jpg')"
   ]
  },
  {
   "cell_type": "markdown",
   "metadata": {
    "collapsed": true,
    "deletable": true,
    "editable": true
   },
   "source": [
    "# Further Readings:\n",
    "[MIT BF Course](http://people.csail.mit.edu/sparis/bf_course/)\n",
    "\n",
    "[IITD BF Course](www.cse.iitd.ernet.in/~pkalra/col783/bilateral-filtering.pdf)\n",
    "\n",
    "[Machine Vision Bilateral Filtering](http://www.cse.usf.edu/~r1k/MachineVisionBook/MachineVision.files/MachineVision_Chapter4.pdf)"
   ]
  }
 ],
 "metadata": {
  "kernelspec": {
   "display_name": "Python 3",
   "language": "python",
   "name": "python3"
  },
  "language_info": {
   "codemirror_mode": {
    "name": "ipython",
    "version": 3
   },
   "file_extension": ".py",
   "mimetype": "text/x-python",
   "name": "python",
   "nbconvert_exporter": "python",
   "pygments_lexer": "ipython3",
   "version": "3.5.2"
  }
 },
 "nbformat": 4,
 "nbformat_minor": 2
}
