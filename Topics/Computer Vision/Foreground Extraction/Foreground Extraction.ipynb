{
 "cells": [
  {
   "cell_type": "markdown",
   "metadata": {
    "deletable": true,
    "editable": true
   },
   "source": [
    "# Foreground Extraction / Background subtraction\n",
    "---\n",
    "\n",
    "### Introduction\n",
    "Background subtraction (BS) is a common and widely used technique for generating a foreground mask (namely, a binary image containing the pixels belonging to moving objects in the scene) by using static cameras.\n",
    "\n",
    "As the name suggests, BS calculates the foreground mask performing a subtraction between the current frame and a background model, containing the static part of the scene or, more in general, everything that can be considered as background given the characteristics of the observed scene.\n",
    "\n",
    "<img src=\"img.png\">\n",
    "\n",
    "Background modeling consists of two main steps:\n",
    "\n",
    "1.Background Initialization\n",
    "2.Background Update.\n",
    "In the first step, an initial model of the background is computed, while in the second step that model is updated in order to adapt to possible changes in the scene.\n",
    "\n",
    "We will discuss the following algorithms which are available in the opencv library. Kindly refer to the respective papers for the details of the algorithm which will be highly useful for parameter tuning.\n",
    "\n",
    "#### 1 . BackgroundSubtractorMOG\n",
    "An improved adaptive background mixture model for real-time tracking with shadow detection in 2001\n",
    "\n",
    "#### 2. BackgroundSubtractorMOG2\n",
    "Improved adaptive Gausian mixture model for background subtraction in 2004 and Efficient Adaptive\n",
    " Density Estimation per Image Pixel for the Task of Background Subtraction in 2006 \n",
    "\n",
    "#### 3. BackgroundSubtractorGMG\n",
    "Visual Tracking of Human Visitors under Variable-Lighting Conditions for a Responsive Audio Art Installation in 2012\n"
   ]
  },
  {
   "cell_type": "code",
   "execution_count": 2,
   "metadata": {
    "collapsed": true,
    "deletable": true,
    "editable": true
   },
   "outputs": [],
   "source": [
    "# As usual, a bit of setup\n",
    "\n",
    "import numpy as np\n",
    "import cv2\n",
    "\n",
    "# for auto-reloading external modules\n",
    "# see http://stackoverflow.com/questions/1907993/autoreload-of-modules-in-ipython\n",
    "%load_ext autoreload\n",
    "%autoreload 2"
   ]
  },
  {
   "cell_type": "markdown",
   "metadata": {
    "deletable": true,
    "editable": true
   },
   "source": [
    "## BackgroundSubtractorMOG\n",
    "---"
   ]
  },
  {
   "cell_type": "code",
   "execution_count": 3,
   "metadata": {
    "collapsed": true,
    "deletable": true,
    "editable": true
   },
   "outputs": [],
   "source": [
    "cap = cv2.VideoCapture('vtest.avi') #you can find the video in your opencv folder - opencv/samples/data or \n",
    "# at https://github.com/opencv/opencv/tree/master/samples/data. Copy the video to your current directory\n",
    "     \n",
    "#For opencv 3.x ,Remember you must have opencv contrib installed.\n",
    "fgbg = cv2.bgsegm.createBackgroundSubtractorMOG()\n",
    "\n",
    "#For opencv 2.x\n",
    "#fgbg = cv2.createBackgroundSubtractorMOG()\n",
    "     \n",
    "while(1):\n",
    "  ret, frame = cap.read()   #reading the video frame by frame\n",
    "  if ret == 0:\n",
    "    break;\n",
    "  fgmask = fgbg.apply(frame)  #obtaining the foreground mask\n",
    "  cv2.imshow('frame',fgmask)\n",
    "  k = cv2.waitKey(1) & 0xff\n",
    "  if k == 27:\n",
    "     break \n",
    "cap.release()\n",
    "cv2.destroyAllWindows()\n",
    "\n",
    "############################################################################\n",
    "#                             END OF CODE                             #\n",
    "############################################################################\n",
    "    "
   ]
  },
  {
   "cell_type": "markdown",
   "metadata": {
    "deletable": true,
    "editable": true
   },
   "source": [
    "### Results:\n",
    "\n",
    "Original Frame\n",
    "\n",
    "Below image shows the 200th frame of a video\n",
    "\n",
    "<img src=\"img1.png\">"
   ]
  },
  {
   "cell_type": "markdown",
   "metadata": {
    "deletable": true,
    "editable": true
   },
   "source": [
    "Result of BackgroundSubtractorMOG\n",
    "<img src=\"img2.png\">"
   ]
  },
  {
   "cell_type": "markdown",
   "metadata": {
    "deletable": true,
    "editable": true
   },
   "source": [
    "\n",
    "## BackgroundSubtractorMOG2\n",
    "---"
   ]
  },
  {
   "cell_type": "code",
   "execution_count": 3,
   "metadata": {
    "collapsed": true,
    "deletable": true,
    "editable": true
   },
   "outputs": [],
   "source": [
    "cap = cv2.VideoCapture('vtest.avi') #you can find the video in your opencv folder - opencv/samples/data or \n",
    "# at https://github.com/opencv/opencv/tree/master/samples/data.Copy the video to your current directory\n",
    "     \n",
    "#For opencv 3.x ,Remember you must have opencv contrib installed.\n",
    "fgbg = cv2.createBackgroundSubtractorMOG2()\n",
    "\n",
    "#For opencv 2.x\n",
    "#fgbg = cv2.createBackgroundSubtractorMOG2()\n",
    "     \n",
    "while(1):\n",
    "  ret, frame = cap.read()   #reading the video frame by frame\n",
    "  if ret == 0:\n",
    "    break\n",
    "  fgmask = fgbg.apply(frame)  #obtaining the foreground mask\n",
    "  cv2.imshow('frame',fgmask)\n",
    "  k = cv2.waitKey(1) & 0xff\n",
    "  if k == 27:\n",
    "     break \n",
    "cap.release()\n",
    "cv2.destroyAllWindows()\n",
    "\n",
    "############################################################################\n",
    "#                             END OF CODE                             #\n",
    "############################################################################\n",
    "    "
   ]
  },
  {
   "cell_type": "markdown",
   "metadata": {
    "collapsed": true,
    "deletable": true,
    "editable": true
   },
   "source": [
    "### Results:\n",
    "Result of BackgroundSubtractorMOG\n",
    "\n",
    "Gray color region shows shadow region\n",
    "\n",
    "<img src=\"img3.png\">"
   ]
  },
  {
   "cell_type": "markdown",
   "metadata": {
    "deletable": true,
    "editable": true
   },
   "source": [
    "## BackgroundSubtractorGMG\n",
    "---"
   ]
  },
  {
   "cell_type": "code",
   "execution_count": null,
   "metadata": {
    "collapsed": true,
    "deletable": true,
    "editable": true
   },
   "outputs": [],
   "source": [
    "cap = cv2.VideoCapture('vtest.avi') #you can find the video in your opencv folder - opencv/samples/data or \n",
    "# at https://github.com/opencv/opencv/tree/master/samples/data. Copy the video to your current directory\n",
    "     \n",
    "#For opencv 3.x ,Remember you must have opencv contrib installed.\n",
    "fgbg = cv2.bgsegm.createBackgroundSubtractorGMG()\n",
    "\n",
    "#For opencv 2.x\n",
    "#fgbg = cv2.createBackgroundSubtractorMOG()\n",
    "     \n",
    "while(1):\n",
    "  ret, frame = cap.read()   #reading the video frame by frame\n",
    "  if ret == 0:\n",
    "    break\n",
    "  fgmask = fgbg.apply(frame)  #obtaining the foreground mask\n",
    "  fgmask = cv2.morphologyEx(fgmask, cv2.MORPH_OPEN, kernel) #Noise is removed with morphological opening.\n",
    "  cv2.imshow('frame',fgmask)\n",
    "  k = cv2.waitKey(30) & 0xff\n",
    "  if k == 27:\n",
    "     break \n",
    "cap.release()\n",
    "cv2.destroyAllWindows()\n",
    "\n",
    "############################################################################\n",
    "#                             END OF CODE                             #\n",
    "############################################################################\n",
    "    "
   ]
  },
  {
   "cell_type": "markdown",
   "metadata": {
    "collapsed": true,
    "deletable": true,
    "editable": true
   },
   "source": [
    "### Results:\n",
    "\n",
    "Result of BackgroundSubtractorGMG\n",
    "\n",
    "<img src=\"img4.png\">"
   ]
  },
  {
   "cell_type": "markdown",
   "metadata": {
    "deletable": true,
    "editable": true
   },
   "source": [
    "### Exercise:\n",
    "#### Pedestrian Detection :\n",
    "Create bounding boxes around the moving objects in the video. Write your code in the specified box below. You can have a look at the algorithm in the box.The output at the 200th frame is shown below\n",
    "\n",
    "<img src=\"output.png\">"
   ]
  },
  {
   "cell_type": "code",
   "execution_count": null,
   "metadata": {
    "collapsed": true,
    "deletable": true,
    "editable": true
   },
   "outputs": [],
   "source": [
    "cap = cv2.VideoCapture('vtest.avi') \n",
    "\n",
    "#For opencv 3.x ,Remember you must have opencv contrib installed.\n",
    "fgbg = cv2.bgsegm.createBackgroundSubtractorMOG()\n",
    "\n",
    "#For opencv 2.x\n",
    "#fgbg = cv2.createBackgroundSubtractorMOG()\n",
    "     \n",
    "while(1):\n",
    "  ret, frame = cap.read()   #reading the video frame by frame\n",
    "  if(ret):\n",
    "   fgmask = fgbg.apply(frame)  #obtaining the foreground mask\n",
    "\n",
    "    ############################################################################\n",
    "    # Algorithm :Perform Pre-processing on the obtained mask o remove noise          #\n",
    "    # Hint:Median Blur,dilation,erosion,etc..                                  #\n",
    "    # Obtain the contours                                                      #\n",
    "    # Set a threshold on the bounding box area to avoid unwanted boxes.        #\n",
    "    # use the cv2.boundingRect function for the bounding rectangle             #\n",
    "    #                             END OF YOUR CODE                             #\n",
    "    ############################################################################\n",
    "\n",
    "\n",
    "\n",
    "   cv2.imshow('frame',fgmask)\n",
    "   k = cv2.waitKey(30) & 0xff\n",
    "   if k == 27:\n",
    "     break \n",
    "cap.release()\n",
    "cv2.destroyAllWindows()"
   ]
  },
  {
   "cell_type": "markdown",
   "metadata": {
    "deletable": true,
    "editable": true
   },
   "source": [
    "### Further Reading:\n",
    "The BGSlibrary is a free and open source(for academic purposes) library consisting of 43 background subtraction algorithms.\n",
    "\n",
    "Check out the list of availabe algorithms here: https://github.com/andrewssobral/bgslibrary/wiki/List-of-available-algorithms\n",
    "\n",
    "The installation instructions for Ubuntu or OSX can be found here:https://github.com/andrewssobral/bgslibrary/wiki/Installation-instructions-Ubuntu-or-OSX\n",
    "\n",
    "Students are adviced to try out the following algorithms which give very good results:\n",
    "PixelBasedAdaptiveSegmenter, LBAdaptiveSOM, DPWrenGA, MixtureOfGaussianV2 and MultiLayer"
   ]
  },
  {
   "cell_type": "markdown",
   "metadata": {
    "deletable": true,
    "editable": true
   },
   "source": [
    "### References:\n",
    "1.OpenCV Python Documentation - http://docs.opencv.org/3.0-beta/doc/py_tutorials/py_tutorials.html\n",
    "\n",
    "2.BGSlibrary - https://github.com/andrewssobral/bgslibrary"
   ]
  }
 ],
 "metadata": {
  "kernelspec": {
   "display_name": "Python 3",
   "language": "python",
   "name": "python3"
  },
  "language_info": {
   "codemirror_mode": {
    "name": "ipython",
    "version": 3
   },
   "file_extension": ".py",
   "mimetype": "text/x-python",
   "name": "python",
   "nbconvert_exporter": "python",
   "pygments_lexer": "ipython3",
   "version": "3.5.2"
  }
 },
 "nbformat": 4,
 "nbformat_minor": 2
}
